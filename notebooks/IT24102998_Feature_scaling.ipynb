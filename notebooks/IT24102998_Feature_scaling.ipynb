{
 "cells": [
  {
   "cell_type": "code",
   "execution_count": null,
   "id": "35c70a41",
   "metadata": {},
   "outputs": [],
   "source": [
    "scaling_cols = ['Age', 'BMI', 'Cholesterol', 'Systolic_BP', 'Diastolic_BP',\n",
    "       'Alcohol_Intake', 'Stress_Level', 'Salt_Intake', 'Sleep_Duration',\n",
    "       'Heart_Rate', 'LDL', 'HDL', 'Triglycerides', 'Glucose', 'Pulse_Pressure',\n",
    "       'Cholesterol_Ratio', 'Cholesterol_BMI', 'BP_Interaction',\n",
    "       'LDL_HDL_Ratio', 'Triglycerides_Glucose']"
   ]
  },
  {
   "cell_type": "code",
   "execution_count": null,
   "id": "bcee8885",
   "metadata": {},
   "outputs": [],
   "source": [
    "plt.figure(figsize=(12, 8))\n",
    "df_original[['Age', 'BMI', 'Cholesterol', 'Systolic_BP',]].boxplot()\n",
    "plt.title('Boxplots of Numerical Features')\n",
    "plt.xticks(rotation=45)\n",
    "plt.tight_layout()\n",
    "plt.savefig('./results/eda_visualizations/11_numerical_features_boxplot.png')\n",
    "plt.show()"
   ]
  },
  {
   "cell_type": "code",
   "execution_count": null,
   "id": "06ae92fe",
   "metadata": {},
   "outputs": [
    {
     "name": "stdout",
     "output_type": "stream",
     "text": [
      "Label encoded binary columns:\n",
      "    Gender  Family_History  Diabetes  Hypertension\n",
      "0       0               1         1             1\n",
      "1       1               1         1             1\n",
      "2       1               1         1             0\n",
      "3       0               1         1             1\n",
      "4       0               1         0             1\n"
     ]
    }
   ],
   "source": [
    "# Columns list (numerical)\n",
    "scaling_cols = ['Age', 'BMI', 'Cholesterol', 'Systolic_BP', 'Diastolic_BP',\n",
    "       'Alcohol_Intake', 'Stress_Level', 'Salt_Intake', 'Sleep_Duration',\n",
    "       'Heart_Rate', 'LDL', 'HDL', 'Triglycerides', 'Glucose', 'Pulse_Pressure',\n",
    "       'Cholesterol_Ratio', 'Cholesterol_BMI', 'BP_Interaction',\n",
    "       'LDL_HDL_Ratio', 'Triglycerides_Glucose']\n",
    "\n",
    "print(\"\\nBefore Feature Scaling:\")\n",
    "print(df_original[scaling_cols].describe())\n",
    "\n",
    "# Create Object: StandardScaler\n",
    "scaler = StandardScaler()\n",
    "\n",
    "# Apply scaling to numerical columns (including new features)\n",
    "df_original[scaling_cols] = scaler.fit_transform(df_original[scaling_cols])\n",
    "\n",
    "print(\"\\nAfter Feature Scaling:\")\n",
    "print(df_original[scaling_cols].describe())\n",
    "\n",
    "balanced_df.to_csv(\"results/outputs/hypertension_dataset(encoded-balanced-feature_engineered-scaled).csv\", index=False)"
   ]
  },
  {
   "cell_type": "code",
   "execution_count": null,
   "id": "b0619e5b",
   "metadata": {},
   "outputs": [],
   "source": [
    "plt.figure(figsize=(12, 8))\n",
    "df_original[['Age', 'BMI', 'Cholesterol', 'Systolic_BP',]].boxplot()\n",
    "plt.title('Boxplots of Numerical Features')\n",
    "plt.xticks(rotation=45)\n",
    "plt.tight_layout()\n",
    "plt.savefig('./results/eda_visualizations/12_numerical_features_boxplot.png')\n",
    "plt.show()"
   ]
  },
  {
   "cell_type": "markdown",
   "id": "772703e2",
   "metadata": {},
   "source": []
  }
 ],
 "metadata": {
  "kernelspec": {
   "display_name": "Python 3",
   "language": "python",
   "name": "python3"
  },
  "language_info": {
   "codemirror_mode": {
    "name": "ipython",
    "version": 3
   },
   "file_extension": ".py",
   "mimetype": "text/x-python",
   "name": "python",
   "nbconvert_exporter": "python",
   "pygments_lexer": "ipython3",
   "version": "3.12.1"
  }
 },
 "nbformat": 4,
 "nbformat_minor": 5
}
