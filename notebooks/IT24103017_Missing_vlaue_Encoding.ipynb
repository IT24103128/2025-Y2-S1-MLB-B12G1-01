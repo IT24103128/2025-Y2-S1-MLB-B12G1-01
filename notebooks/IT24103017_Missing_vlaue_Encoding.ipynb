{
 "cells": [
  {
   "cell_type": "code",
   "execution_count": null,
   "id": "bef5524d",
   "metadata": {},
   "outputs": [],
   "source": [
    "import pandas as pd\n",
    "from imblearn.over_sampling import SMOTE\n",
    "from collections import Counter\n",
    "import numpy as np\n",
    "import matplotlib.pyplot as plt\n",
    "import seaborn as sns\n",
    "from sklearn.preprocessing import StandardScaler\n",
    "from sklearn.decomposition import PCA\n",
    "from sklearn.feature_selection import SelectKBest, VarianceThreshold, mutual_info_classif\n",
    "from sklearn.ensemble import RandomForestClassifier\n",
    "from sklearn.model_selection import train_test_split"
   ]
  },
  {
   "cell_type": "code",
   "execution_count": null,
   "id": "0573b1da",
   "metadata": {},
   "outputs": [],
   "source": [
    "# Load dataset\n",
    "df_original = pd.read_csv(\"./data/raw/hypertension_dataset.csv\")\n",
    "\n",
    "# print first 5 rows\n",
    "print(\"First 5 rows : \")\n",
    "print(df_original.head())\n",
    "\n",
    "print(\"\\nDF (Rows, Colums) :\", df_original.shape)"
   ]
  },
  {
   "cell_type": "code",
   "execution_count": null,
   "id": "0bdbf96a",
   "metadata": {},
   "outputs": [],
   "source": [
    "# Handle missing values\n",
    "print(\"\\nMissing values per column:\")\n",
    "print(df_original.isnull().sum())\n",
    "\n",
    "# remove missing \n",
    "df_original = df_original.dropna(axis=1)\n",
    "print(df_original.head)\n"
   ]
  },
  {
   "cell_type": "code",
   "execution_count": null,
   "id": "f7d12c8a",
   "metadata": {},
   "outputs": [],
   "source": [
    "# Missing Values Heatmap\n",
    "plt.figure(figsize=(10, 6))\n",
    "sns.heatmap(df_original.isnull(), cbar=False, cmap='viridis')\n",
    "plt.title('Missing Values Heatmap')\n",
    "plt.savefig('./results/eda_visualizations/1_missing_values_heatmap.png')\n",
    "plt.show()"
   ]
  },
  {
   "cell_type": "code",
   "execution_count": null,
   "id": "0aca7985",
   "metadata": {},
   "outputs": [],
   "source": [
    "# Gender visualize\n",
    "plt.figure(figsize=(8,5))\n",
    "sns.countplot(x=\"Gender\", data=df_original)\n",
    "plt.title(\"Gender Distribution Before Encoding\")\n",
    "plt.savefig('./results/eda_visualizations/2_Gender_Distribution_Before_Encodingvisualization.png')\n",
    "plt.show()"
   ]
  },
  {
   "cell_type": "code",
   "execution_count": null,
   "id": "e5fe15dc",
   "metadata": {},
   "outputs": [],
   "source": [
    "plt.figure(figsize=(8,5))\n",
    "sns.countplot(x=df_original[\"Country\"])\n",
    "plt.title(\"Country Distribution (Before Encoding)\")\n",
    "plt.xticks(rotation=45)\n",
    "plt.savefig('./results/eda_visualizations/3_Country_Distribution_Before_Encoding.png')\n",
    "plt.show()\n",
    "\n",
    "plt.figure(figsize=(6,4))\n",
    "sns.countplot(x=df_original[\"Smoking_Status\"])\n",
    "plt.title(\"Smoking Status Distribution (Before Encoding)\")\n",
    "plt.savefig('./results/eda_visualizations/4_Smoking_Status_Distribution_Before Encoding.png')\n",
    "plt.show()\n",
    "\n",
    "plt.figure(figsize=(6,4))\n",
    "sns.countplot(x=df_original[\"Employment_Status\"])\n",
    "plt.title(\"Employment Status Distribution (Before Encoding)\")\n",
    "plt.savefig('./results/eda_visualizations/5_Employment_Status_Distribution_Before_Encoding.png')\n",
    "plt.show()\n"
   ]
  },
  {
   "cell_type": "code",
   "execution_count": null,
   "id": "7d5eb94e",
   "metadata": {},
   "outputs": [],
   "source": [
    "# Encode\n",
    "print(\"Before Label Encoding:\")\n",
    "print(df_original.dtypes)\n",
    "\n",
    "# Label Encode\n",
    "\n",
    "# Define mappings for ordinal features\n",
    "hypertension_map = {'Low': 0, 'High': 1}\n",
    "activity_map = {'Low': 0, 'Moderate': 1, 'High': 2}\n",
    "education_level_map = {'Primary': 0, 'Secondary': 1, 'Tertiary': 2}\n",
    "diabetes_map = {'No': 0, 'Yes': 1}\n",
    "gender_map = {'Female': 0, 'Male': 1}\n",
    "family_history_map = {'No': 0, 'Yes': 1}\n",
    "\n",
    "# Apply mappings\n",
    "df_original['Hypertension'] = df_original['Hypertension'].map(hypertension_map)\n",
    "df_original['Physical_Activity_Level'] = df_original['Physical_Activity_Level'].map(activity_map)\n",
    "df_original['Education_Level'] = df_original['Education_Level'].map(education_level_map)\n",
    "df_original['Diabetes'] = df_original['Diabetes'].map(diabetes_map)\n",
    "df_original['Gender'] = df_original['Gender'].map(gender_map)\n",
    "df_original['Family_History'] = df_original['Family_History'].map(family_history_map)\n",
    "\n",
    "print(\"\\nAfter Label Encoding:\")\n",
    "print(df_original.head())"
   ]
  },
  {
   "cell_type": "code",
   "execution_count": null,
   "id": "e93583f8",
   "metadata": {},
   "outputs": [],
   "source": [
    "print(df_original.dtypes)"
   ]
  },
  {
   "cell_type": "code",
   "execution_count": null,
   "id": "685a95ad",
   "metadata": {},
   "outputs": [],
   "source": [
    "# One-Hot Encoding for multi-category columns\n",
    "country_dummies = pd.get_dummies(df_original[\"Country\"], prefix=\"Country\").astype(int)\n",
    "smoking_status_dummies = pd.get_dummies(df_original[\"Smoking_Status\"], prefix=\"Smoking_Status\").astype(int)\n",
    "employment_status_dummies = pd.get_dummies(df_original[\"Employment_Status\"], prefix=\"Employment_Status\").astype(int)\n",
    "\n",
    "# Add encoded columns to dataset\n",
    "df_original = pd.concat([df_original, country_dummies], axis=1)\n",
    "df_original = pd.concat([df_original, smoking_status_dummies], axis=1)\n",
    "df_original = pd.concat([df_original, employment_status_dummies], axis=1)\n",
    "\n",
    "# Drop old columns\n",
    "df_original.drop(\"Country\", axis=1, inplace=True)\n",
    "df_original.drop(\"Smoking_Status\", axis=1, inplace=True)\n",
    "df_original.drop(\"Employment_Status\", axis=1, inplace=True)\n",
    "\n",
    "print(\"\\nAfter One-Hot Encoding:\")\n",
    "print(\"Dataset shape:\", df_original.shape)\n",
    "\n",
    "df_original.to_csv(\"results/outputs/hypertension_dataset(encoded).csv\", index=False)"
   ]
  },
  {
   "cell_type": "code",
   "execution_count": null,
   "id": "c2e7893d",
   "metadata": {},
   "outputs": [],
   "source": [
    "# Gender visualize\n",
    "plt.figure(figsize=(8,5))\n",
    "sns.countplot(x=\"Gender\", data=df_original)\n",
    "plt.title(\"Gender Distribution After Encoding\")\n",
    "plt.savefig('./results/eda_visualizations/6_Gender_Distribution_Before_Encoding.png')\n",
    "plt.show()"
   ]
  }
 ],
 "metadata": {
  "kernelspec": {
   "display_name": "Python 3",
   "language": "python",
   "name": "python3"
  },
  "language_info": {
   "codemirror_mode": {
    "name": "ipython",
    "version": 3
   },
   "file_extension": ".py",
   "mimetype": "text/x-python",
   "name": "python",
   "nbconvert_exporter": "python",
   "pygments_lexer": "ipython3",
   "version": "3.12.1"
  }
 },
 "nbformat": 4,
 "nbformat_minor": 5
}
