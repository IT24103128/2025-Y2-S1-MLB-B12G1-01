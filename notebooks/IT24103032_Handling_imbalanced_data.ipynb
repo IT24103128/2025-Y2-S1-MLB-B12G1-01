{
 "cells": [
  {
   "cell_type": "code",
   "execution_count": null,
   "id": "d859f61e",
   "metadata": {},
   "outputs": [],
   "source": [
    "# Check class distribution\n",
    "print(df_original['Hypertension'].value_counts())\n",
    "print(df_original['Hypertension'].value_counts(normalize=True))"
   ]
  },
  {
   "cell_type": "code",
   "execution_count": null,
   "id": "79078a9a",
   "metadata": {},
   "outputs": [],
   "source": [
    "\n",
    "# Class Distribution of Hypertension\n",
    "plt.figure(figsize=(8, 5))\n",
    "sns.countplot(x='Hypertension', data=df_original)\n",
    "plt.title('Distribution of Hypertension Classes (Original)')\n",
    "plt.xlabel('Hypertension (0=Low, 1=High)')\n",
    "plt.ylabel('Count')\n",
    "plt.savefig('./results/eda_visualizations/7_hypertension_distribution_original.png')\n",
    "plt.show()"
   ]
  },
  {
   "cell_type": "code",
   "execution_count": null,
   "id": "4482f28d",
   "metadata": {},
   "outputs": [],
   "source": [
    "# Devide target variable\n",
    "X = df_original.drop(\"Hypertension\", axis=1)\n",
    "y = df_original[\"Hypertension\"]\n",
    "\n",
    "# Create Smote object for oversampling\n",
    "smote = SMOTE(random_state=42)\n",
    "# Oversampling\n",
    "X_smote, y_smote = smote.fit_resample(X, y)\n",
    "\n",
    "print(\"Before:\", Counter(y))\n",
    "print(\"After:\", Counter(y_smote))\n",
    "\n",
    "# Create new dataset using oversampling data\n",
    "balanced_df = pd.DataFrame(X_smote, columns=X.columns)\n",
    "balanced_df[\"Hypertension\"] = y_smote\n",
    "\n",
    "print(balanced_df['Hypertension'].value_counts())\n",
    "\n",
    "balanced_df.to_csv(\"results/outputs/hypertension_dataset(encoded-balanced).csv\", index=False)\n",
    "\n",
    "df_original = balanced_df"
   ]
  },
  {
   "cell_type": "code",
   "execution_count": null,
   "id": "2c999886",
   "metadata": {},
   "outputs": [],
   "source": [
    "# Class Distribution of Hypertension after balancing\n",
    "plt.figure(figsize=(8, 5))\n",
    "sns.countplot(x='Hypertension', data=df_original)\n",
    "plt.title('Distribution of Hypertension Classes (Original)')\n",
    "plt.xlabel('Hypertension (0=Low, 1=High)')\n",
    "plt.ylabel('Count')\n",
    "plt.savefig('./results/eda_visualizations/8_hypertension_distribution_original.png')\n",
    "plt.show()"
   ]
  },
  {
   "cell_type": "code",
   "execution_count": null,
   "id": "dc91f34f",
   "metadata": {},
   "outputs": [],
   "source": [
    "# Extract duplicated\n",
    "duplicate_rows_df = df_original[df_original.duplicated()]\n",
    "# Print shape rows and column\n",
    "print(\"number of duplicate rows: \", duplicate_rows_df.shape)\n",
    "\n",
    "# Remove duplicates\n",
    "df_original = df_original.drop_duplicates()\n",
    "df_original.shape"
   ]
  }
 ],
 "metadata": {
  "kernelspec": {
   "display_name": "Python 3",
   "language": "python",
   "name": "python3"
  },
  "language_info": {
   "codemirror_mode": {
    "name": "ipython",
    "version": 3
   },
   "file_extension": ".py",
   "mimetype": "text/x-python",
   "name": "python",
   "nbconvert_exporter": "python",
   "pygments_lexer": "ipython3",
   "version": "3.12.1"
  }
 },
 "nbformat": 4,
 "nbformat_minor": 5
}
