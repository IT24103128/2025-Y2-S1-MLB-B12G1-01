{
 "cells": [
  {
   "cell_type": "code",
   "execution_count": null,
   "id": "04af38e8",
   "metadata": {},
   "outputs": [],
   "source": [
    "# Feature Selection\n",
    "# Features and target\n",
    "X = df_original.drop(columns=['Hypertension'], axis=1)\n",
    "y = df_original['Hypertension']\n",
    "\n",
    "# Split the data\n",
    "X_train, X_test, y_train, y_test = train_test_split(X, y, test_size=0.2, random_state=42)\n",
    "\n",
    "print(f\"\\nTraining set shape: {X_train.shape}\")\n",
    "print(f\"Testing set shape: {X_test.shape}\")\n",
    "\n",
    "df_original.describe()"
   ]
  },
  {
   "cell_type": "code",
   "execution_count": null,
   "id": "4aa2b45f",
   "metadata": {},
   "outputs": [],
   "source": [
    "# Variance Threshold\n",
    "selector = VarianceThreshold(threshold=0.8)\n",
    "X_high_var = selector.fit_transform(X_train)\n",
    "var_features = X_train.columns[selector.get_support()]\n",
    "print(f\"Original features: {X_train.shape[1]}\")\n",
    "print(f\"Features after variance threshold: {len(var_features)}\")\n",
    "\n",
    "print(\"Features by variance threshold :\", var_features.tolist())"
   ]
  },
  {
   "cell_type": "code",
   "execution_count": null,
   "id": "c26278de",
   "metadata": {},
   "outputs": [],
   "source": [
    "variances = selector.variances_\n",
    "plt.figure(figsize=(12, 14))\n",
    "sns.barplot(x=variances, y=X_train.columns)\n",
    "plt.axvline(x=0.1, color='r', linestyle='--')\n",
    "plt.title('Feature Variances')\n",
    "plt.tight_layout()\n",
    "plt.savefig('./results/eda_visualizations/13_feature_variance.png')\n",
    "plt.show()"
   ]
  },
  {
   "cell_type": "code",
   "execution_count": null,
   "id": "5558d691",
   "metadata": {},
   "outputs": [],
   "source": [
    "#  Mutual Information\n",
    "mi_scores = mutual_info_classif(X_train, y_train)\n",
    "mi_scores = pd.Series(mi_scores, index=X_train.columns)\n",
    "\n",
    "# Select top 17 features by MI\n",
    "top_k_mi = 25\n",
    "mi_features = mi_scores.sort_values(ascending=True).head(top_k_mi).index.tolist()\n",
    "print(f\"Top {top_k_mi} features by Mutual Information: {mi_features}\")"
   ]
  },
  {
   "cell_type": "code",
   "execution_count": null,
   "id": "72d8cc18",
   "metadata": {},
   "outputs": [],
   "source": [
    "# Visualize mutual information scores\n",
    "plt.figure(figsize=(12, 14))\n",
    "sns.barplot(x= mi_scores.sort_values(ascending=False), y=mi_scores.index)\n",
    "plt.title('Feature Importance (Mutual Information)')\n",
    "plt.tight_layout()\n",
    "plt.savefig('./results/eda_visualizations/14_feature_importance_mutual_information.png')\n",
    "plt.show()"
   ]
  },
  {
   "cell_type": "code",
   "execution_count": null,
   "id": "ffe84002",
   "metadata": {},
   "outputs": [],
   "source": [
    "# Random Forest\n",
    "rf = RandomForestClassifier(n_estimators=100, random_state=42)\n",
    "rf.fit(X_train, y_train)\n",
    "\n",
    "importances = rf.feature_importances_\n",
    "feature_names = X_train.columns\n",
    "forest_importances = pd.Series(importances, index=feature_names).sort_values(ascending=False)\n",
    "\n",
    "# Select top 21\n",
    "# features by Random Forest\n",
    "top_k_rf = 25\n",
    "rf_features = forest_importances.head(top_k_rf).index.tolist()\n",
    "print(f\"Top {top_k_rf} features by Random Forest: {rf_features}\")\n"
   ]
  },
  {
   "cell_type": "code",
   "execution_count": null,
   "id": "dafd1a4f",
   "metadata": {},
   "outputs": [],
   "source": [
    "plt.figure(figsize=(12, 20))\n",
    "sns.barplot(x=forest_importances.values, y=forest_importances.index)\n",
    "plt.title('Feature Importances (Random Forest)')\n",
    "plt.savefig('./results/eda_visualizations/15_feature_importance_random_forest.png')\n",
    "plt.tight_layout()\n",
    "plt.show()"
   ]
  },
  {
   "cell_type": "code",
   "execution_count": null,
   "id": "03cb9c7e",
   "metadata": {},
   "outputs": [],
   "source": [
    "# SelectKBest\n",
    "top_k = 25\n",
    "selector = SelectKBest(score_func=mutual_info_classif, k=top_k)\n",
    "X_new = selector.fit_transform(X_train, y_train)\n",
    "kbest_features = X_train.columns[selector.get_support()].tolist()\n",
    "print(f\"Top 25 features by SelectKBest: {kbest_features}\")"
   ]
  },
  {
   "cell_type": "code",
   "execution_count": null,
   "id": "e2aec961",
   "metadata": {},
   "outputs": [],
   "source": [
    "feature_scores = pd.DataFrame({\n",
    "    'Feature': X_train.columns,\n",
    "    'Score': selector.scores_\n",
    "})\n",
    "\n",
    "feature_scores = feature_scores.dropna().sort_values(by=\"Score\", ascending=False)\n",
    "\n",
    "plt.figure(figsize=(12,14))\n",
    "sns.barplot(x=\"Score\", y=\"Feature\", data=feature_scores)\n",
    "plt.title('Feature Scores (SelectKBest with mutual_info_classif)')\n",
    "plt.savefig('./results/eda_visualizations/16_feature_importance_select_k_best.png')\n",
    "plt.tight_layout()\n",
    "plt.show()"
   ]
  },
  {
   "cell_type": "code",
   "execution_count": null,
   "id": "e499e9d0",
   "metadata": {},
   "outputs": [],
   "source": [
    "# select features\n",
    "all_features = var_features.tolist() + mi_features + kbest_features + rf_features\n",
    "feature_counts = Counter(all_features)\n",
    "print(feature_counts)"
   ]
  },
  {
   "cell_type": "code",
   "execution_count": null,
   "id": "333e3ca7",
   "metadata": {},
   "outputs": [],
   "source": [
    "# Convert Counter to dict\n",
    "feature_names = list(feature_counts.keys())\n",
    "counts = list(feature_counts.values())\n",
    "\n",
    "# Feature selection summary\n",
    "plt.figure(figsize=(12, 6))\n",
    "plt.bar(feature_names, counts)\n",
    "plt.xticks(rotation=90)\n",
    "plt.xlabel(\"Features\")\n",
    "plt.ylabel(\"Selection Count\")\n",
    "plt.title(\"Feature Selection Frequency (across methods)\")\n",
    "plt.tight_layout()\n",
    "plt.show()"
   ]
  },
  {
   "cell_type": "code",
   "execution_count": null,
   "id": "7ee2347f",
   "metadata": {},
   "outputs": [],
   "source": [
    "# Features picked by 2 or more methods\n",
    "final_features = [f for f, c in feature_counts.items() if c >= 2]\n",
    "\n",
    "print(\"Final selected features:\", final_features)\n",
    "print(\"Count:\", len(final_features))"
   ]
  },
  {
   "cell_type": "code",
   "execution_count": null,
   "id": "e5db4669",
   "metadata": {},
   "outputs": [],
   "source": [
    "# Create new DataFrame with only the final selected features\n",
    "df_selected = df_original[final_features + ['Hypertension']]\n",
    "\n",
    "print(\"Shape of new dataset:\", df_selected.shape)\n",
    "df_selected.head()\n",
    "\n",
    "df_selected.to_csv(\"results/outputs/hypertension_dataset(encoded-balanced-feature_engineered-scaled-selected).csv\", index=False)"
   ]
  }
 ],
 "metadata": {
  "language_info": {
   "name": "python"
  }
 },
 "nbformat": 4,
 "nbformat_minor": 5
}
