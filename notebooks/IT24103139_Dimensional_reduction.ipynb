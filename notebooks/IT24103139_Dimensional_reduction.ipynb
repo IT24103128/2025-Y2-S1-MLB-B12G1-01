{
 "cells": [
  {
   "cell_type": "code",
   "execution_count": null,
   "id": "efa4b048",
   "metadata": {},
   "outputs": [],
   "source": [
    "# Dimensionality Reduction\n",
    "\n",
    "# Features and target\n",
    "X = df_selected.drop(columns=['Hypertension'])\n",
    "y = df_selected['Hypertension']\n",
    "\n",
    "# Split the data\n",
    "X_train, X_test, y_train, y_test = train_test_split(X, y, test_size=0.2, random_state=42)\n",
    "\n",
    "# Prepare data (exclude target)\n",
    "X = df_selected.drop('Hypertension', axis=1)\n",
    "y = df_selected['Hypertension']\n",
    "\n",
    "# Apply PCA with variance threshold\n",
    "pca = PCA(n_components=0.99)  # Retain 90% of variance\n",
    "X_pca = pca.fit_transform(X)\n",
    "\n",
    "# Create new DataFrame\n",
    "pca_cols = [f'PC{i+1}' for i in range(X_pca.shape[1])]\n",
    "df_pca = pd.DataFrame(X_pca, columns=pca_cols)\n",
    "df_pca['Hypertension'] = y.values\n",
    "\n",
    "print(\"Columns (After PCA) :\",len(df_pca.columns))\n",
    "\n",
    "df_pca.to_csv(\"results/outputs/hypertension_dataset(encoded-balanced-feature_engineered-scaled-selected-pca).csv\", index=False)"
   ]
  },
  {
   "cell_type": "code",
   "execution_count": null,
   "id": "adb5ddf8",
   "metadata": {},
   "outputs": [],
   "source": [
    "plt.figure(figsize=(10, 6))\n",
    "plt.bar(range(1, len(pca.explained_variance_ratio_)+1), pca.explained_variance_ratio_)\n",
    "plt.title('Explained Variance by Principal Components')\n",
    "plt.xlabel('Principal Component')\n",
    "plt.ylabel('Explained Variance Ratio')\n",
    "plt.savefig('./results/eda_visualizations/14_pca_explained_variance.png')\n",
    "plt.show()\n",
    "\n",
    "# 7.2 Cumulative Explained Variance\n",
    "plt.figure(figsize=(10, 6))\n",
    "cumulative_variance = np.cumsum(pca.explained_variance_ratio_)\n",
    "plt.plot(range(1, len(cumulative_variance)+1), cumulative_variance, 'bo-')\n",
    "plt.title('Cumulative Explained Variance by Principal Components')\n",
    "plt.xlabel('Number of Components')\n",
    "plt.ylabel('Cumulative Explained Variance')\n",
    "plt.grid(True)\n",
    "plt.savefig('./results/eda_visualizations/15_pca_cumulative_variance.png')\n",
    "plt.show()\n",
    "\n",
    "# 7.3 2D Visualization of Data Using First Two Principal Components\n",
    "plt.figure(figsize=(10, 8))\n",
    "scatter = plt.scatter(X_pca[:, 0], X_pca[:, 1], c=y, cmap='coolwarm', alpha=0.5)\n",
    "plt.title('Data Visualization Using First Two Principal Components')\n",
    "plt.xlabel('Principal Component 1')\n",
    "plt.ylabel('Principal Component 2')\n",
    "plt.colorbar(scatter, label='Hypertension (0=Low, 1=High)')\n",
    "plt.savefig('./results/eda_visualizations/17_pca_2d_visualization.png')\n",
    "plt.show()"
   ]
  }
 ],
 "metadata": {
  "language_info": {
   "name": "python"
  }
 },
 "nbformat": 4,
 "nbformat_minor": 5
}
